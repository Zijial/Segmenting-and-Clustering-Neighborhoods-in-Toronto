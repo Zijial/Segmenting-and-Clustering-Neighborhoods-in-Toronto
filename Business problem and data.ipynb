{
    "cells": [
        {
            "cell_type": "markdown",
            "metadata": {
                "collapsed": true
            },
            "source": "# Capstone Project - The Battle of the Neighborhoods (Week 1)\n### Applied Data Science Capstone by IBM/Coursera"
        },
        {
            "cell_type": "markdown",
            "metadata": {},
            "source": "\n## 1. Introduction: Business Problem <a name=\"introduction\"></a>\nHong Kong is a famous tourist place where housing a wide choice of restaurants that offer cuisines from all over the world. \n\nAs a result, the Hong Kong Food and Beverage industry is robust, with a strong market for the restaurant business. In order to set up a restaurant in Hong Kong investors will need to comply explore the different factors which could effect the business possibly.\n\nSo in my report I am going to focus on problems one might face while open a restaurant. Location, the type of restaurant will be the most important factor that I\u2019d like to consider. \nWe will use our data science powers to generate a few most promissing districtss based on this criteria. Advantages of each district will then be clearly expressed so that best possible final location can be chosen by stakeholders. As result, I will later concentrate on the districts and different type of restaurant, where the busiest venues of Hong Kong can be found to be optimal place to open the restaurant potentialy. "
        },
        {
            "cell_type": "markdown",
            "metadata": {},
            "source": "## 2. Data Preparation and Methdology <a name=\"data\"></a>\n\nBased on definition of our problem, factors that will influence our decission are:\n\n1. Top 10 Population Density in Hong Kong\n2. The type und number of restaurant in each district in Hong Kong.\n\nFrom the website https://en.wikipedia.org/wiki/Districts_of_Hong_Kong we can define the Information of each district in Hong Kong. such as Population, Area per district, so that we can calculate the population density of each district in oder to plot the diagram of it.\nFrom the website https://www.latlong.net we got the districts' latitude and longitude, data all downloaded or scraped from multiple sources were combined into one table.\n\nFinally i will use Foursquare API to print districts along with the top 5 most common venues, through comparison will show us the best districts to start a restaurant .\n"
        },
        {
            "cell_type": "code",
            "execution_count": null,
            "metadata": {},
            "outputs": [],
            "source": ""
        }
    ],
    "metadata": {
        "kernelspec": {
            "display_name": "Python 3.6",
            "language": "python",
            "name": "python3"
        },
        "language_info": {
            "codemirror_mode": {
                "name": "ipython",
                "version": 3
            },
            "file_extension": ".py",
            "mimetype": "text/x-python",
            "name": "python",
            "nbconvert_exporter": "python",
            "pygments_lexer": "ipython3",
            "version": "3.6.9"
        }
    },
    "nbformat": 4,
    "nbformat_minor": 1
}